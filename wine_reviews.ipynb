{
 "cells": [
  {
   "cell_type": "markdown",
   "metadata": {},
   "source": [
    "## 1. 데이터\n",
    "\n",
    "학번이 짝수로 끝나므로 wine_review.csv 데이터를 분석한다."
   ]
  },
  {
   "cell_type": "code",
   "execution_count": 24,
   "metadata": {},
   "outputs": [
    {
     "name": "stdout",
     "output_type": "stream",
     "text": [
      "Requirement already satisfied: pandas in c:\\users\\82104\\appdata\\local\\packages\\pythonsoftwarefoundation.python.3.11_qbz5n2kfra8p0\\localcache\\local-packages\\python311\\site-packages (2.0.3)\n",
      "Requirement already satisfied: python-dateutil>=2.8.2 in c:\\users\\82104\\appdata\\local\\packages\\pythonsoftwarefoundation.python.3.11_qbz5n2kfra8p0\\localcache\\local-packages\\python311\\site-packages (from pandas) (2.8.2)\n",
      "Requirement already satisfied: pytz>=2020.1 in c:\\users\\82104\\appdata\\local\\packages\\pythonsoftwarefoundation.python.3.11_qbz5n2kfra8p0\\localcache\\local-packages\\python311\\site-packages (from pandas) (2023.3)\n",
      "Requirement already satisfied: tzdata>=2022.1 in c:\\users\\82104\\appdata\\local\\packages\\pythonsoftwarefoundation.python.3.11_qbz5n2kfra8p0\\localcache\\local-packages\\python311\\site-packages (from pandas) (2023.3)\n",
      "Requirement already satisfied: numpy>=1.21.0 in c:\\users\\82104\\appdata\\local\\packages\\pythonsoftwarefoundation.python.3.11_qbz5n2kfra8p0\\localcache\\local-packages\\python311\\site-packages (from pandas) (1.25.2)\n",
      "Requirement already satisfied: six>=1.5 in c:\\users\\82104\\appdata\\local\\packages\\pythonsoftwarefoundation.python.3.11_qbz5n2kfra8p0\\localcache\\local-packages\\python311\\site-packages (from python-dateutil>=2.8.2->pandas) (1.16.0)\n"
     ]
    },
    {
     "name": "stderr",
     "output_type": "stream",
     "text": [
      "\n",
      "[notice] A new release of pip is available: 23.2.1 -> 24.0\n",
      "[notice] To update, run: C:\\Users\\82104\\AppData\\Local\\Microsoft\\WindowsApps\\PythonSoftwareFoundation.Python.3.11_qbz5n2kfra8p0\\python.exe -m pip install --upgrade pip\n"
     ]
    },
    {
     "name": "stdout",
     "output_type": "stream",
     "text": [
      "^C\n",
      "Requirement already satisfied: nltk in c:\\users\\82104\\appdata\\local\\packages\\pythonsoftwarefoundation.python.3.11_qbz5n2kfra8p0\\localcache\\local-packages\\python311\\site-packages (3.8.1)\n",
      "Requirement already satisfied: click in c:\\users\\82104\\appdata\\local\\packages\\pythonsoftwarefoundation.python.3.11_qbz5n2kfra8p0\\localcache\\local-packages\\python311\\site-packages (from nltk) (8.1.7)\n",
      "Requirement already satisfied: joblib in c:\\users\\82104\\appdata\\local\\packages\\pythonsoftwarefoundation.python.3.11_qbz5n2kfra8p0\\localcache\\local-packages\\python311\\site-packages (from nltk) (1.3.2)\n",
      "Requirement already satisfied: regex>=2021.8.3 in c:\\users\\82104\\appdata\\local\\packages\\pythonsoftwarefoundation.python.3.11_qbz5n2kfra8p0\\localcache\\local-packages\\python311\\site-packages (from nltk) (2024.4.28)\n",
      "Requirement already satisfied: tqdm in c:\\users\\82104\\appdata\\local\\packages\\pythonsoftwarefoundation.python.3.11_qbz5n2kfra8p0\\localcache\\local-packages\\python311\\site-packages (from nltk) (4.66.1)\n",
      "Requirement already satisfied: colorama in c:\\users\\82104\\appdata\\local\\packages\\pythonsoftwarefoundation.python.3.11_qbz5n2kfra8p0\\localcache\\local-packages\\python311\\site-packages (from click->nltk) (0.4.6)\n"
     ]
    },
    {
     "name": "stderr",
     "output_type": "stream",
     "text": [
      "\n",
      "[notice] A new release of pip is available: 23.2.1 -> 24.0\n",
      "[notice] To update, run: C:\\Users\\82104\\AppData\\Local\\Microsoft\\WindowsApps\\PythonSoftwareFoundation.Python.3.11_qbz5n2kfra8p0\\python.exe -m pip install --upgrade pip\n"
     ]
    },
    {
     "name": "stdout",
     "output_type": "stream",
     "text": [
      "Requirement already satisfied: matplotlib in c:\\users\\82104\\appdata\\local\\packages\\pythonsoftwarefoundation.python.3.11_qbz5n2kfra8p0\\localcache\\local-packages\\python311\\site-packages (3.8.4)\n",
      "Requirement already satisfied: contourpy>=1.0.1 in c:\\users\\82104\\appdata\\local\\packages\\pythonsoftwarefoundation.python.3.11_qbz5n2kfra8p0\\localcache\\local-packages\\python311\\site-packages (from matplotlib) (1.2.1)\n",
      "Requirement already satisfied: cycler>=0.10 in c:\\users\\82104\\appdata\\local\\packages\\pythonsoftwarefoundation.python.3.11_qbz5n2kfra8p0\\localcache\\local-packages\\python311\\site-packages (from matplotlib) (0.12.1)\n",
      "Requirement already satisfied: fonttools>=4.22.0 in c:\\users\\82104\\appdata\\local\\packages\\pythonsoftwarefoundation.python.3.11_qbz5n2kfra8p0\\localcache\\local-packages\\python311\\site-packages (from matplotlib) (4.50.0)\n",
      "Requirement already satisfied: kiwisolver>=1.3.1 in c:\\users\\82104\\appdata\\local\\packages\\pythonsoftwarefoundation.python.3.11_qbz5n2kfra8p0\\localcache\\local-packages\\python311\\site-packages (from matplotlib) (1.4.5)\n",
      "Requirement already satisfied: numpy>=1.21 in c:\\users\\82104\\appdata\\local\\packages\\pythonsoftwarefoundation.python.3.11_qbz5n2kfra8p0\\localcache\\local-packages\\python311\\site-packages (from matplotlib) (1.25.2)\n",
      "Requirement already satisfied: packaging>=20.0 in c:\\users\\82104\\appdata\\local\\packages\\pythonsoftwarefoundation.python.3.11_qbz5n2kfra8p0\\localcache\\local-packages\\python311\\site-packages (from matplotlib) (23.1)\n",
      "Requirement already satisfied: pillow>=8 in c:\\users\\82104\\appdata\\local\\packages\\pythonsoftwarefoundation.python.3.11_qbz5n2kfra8p0\\localcache\\local-packages\\python311\\site-packages (from matplotlib) (10.3.0)\n",
      "Requirement already satisfied: pyparsing>=2.3.1 in c:\\users\\82104\\appdata\\local\\packages\\pythonsoftwarefoundation.python.3.11_qbz5n2kfra8p0\\localcache\\local-packages\\python311\\site-packages (from matplotlib) (3.1.2)\n",
      "Requirement already satisfied: python-dateutil>=2.7 in c:\\users\\82104\\appdata\\local\\packages\\pythonsoftwarefoundation.python.3.11_qbz5n2kfra8p0\\localcache\\local-packages\\python311\\site-packages (from matplotlib) (2.8.2)\n",
      "Requirement already satisfied: six>=1.5 in c:\\users\\82104\\appdata\\local\\packages\\pythonsoftwarefoundation.python.3.11_qbz5n2kfra8p0\\localcache\\local-packages\\python311\\site-packages (from python-dateutil>=2.7->matplotlib) (1.16.0)\n"
     ]
    },
    {
     "name": "stderr",
     "output_type": "stream",
     "text": [
      "\n",
      "[notice] A new release of pip is available: 23.2.1 -> 24.0\n",
      "[notice] To update, run: C:\\Users\\82104\\AppData\\Local\\Microsoft\\WindowsApps\\PythonSoftwareFoundation.Python.3.11_qbz5n2kfra8p0\\python.exe -m pip install --upgrade pip\n"
     ]
    },
    {
     "name": "stdout",
     "output_type": "stream",
     "text": [
      "Requirement already satisfied: seaborn in c:\\users\\82104\\appdata\\local\\packages\\pythonsoftwarefoundation.python.3.11_qbz5n2kfra8p0\\localcache\\local-packages\\python311\\site-packages (0.13.2)\n",
      "Requirement already satisfied: numpy!=1.24.0,>=1.20 in c:\\users\\82104\\appdata\\local\\packages\\pythonsoftwarefoundation.python.3.11_qbz5n2kfra8p0\\localcache\\local-packages\\python311\\site-packages (from seaborn) (1.25.2)\n",
      "Requirement already satisfied: pandas>=1.2 in c:\\users\\82104\\appdata\\local\\packages\\pythonsoftwarefoundation.python.3.11_qbz5n2kfra8p0\\localcache\\local-packages\\python311\\site-packages (from seaborn) (2.0.3)\n",
      "Requirement already satisfied: matplotlib!=3.6.1,>=3.4 in c:\\users\\82104\\appdata\\local\\packages\\pythonsoftwarefoundation.python.3.11_qbz5n2kfra8p0\\localcache\\local-packages\\python311\\site-packages (from seaborn) (3.8.4)\n",
      "Requirement already satisfied: contourpy>=1.0.1 in c:\\users\\82104\\appdata\\local\\packages\\pythonsoftwarefoundation.python.3.11_qbz5n2kfra8p0\\localcache\\local-packages\\python311\\site-packages (from matplotlib!=3.6.1,>=3.4->seaborn) (1.2.1)\n",
      "Requirement already satisfied: cycler>=0.10 in c:\\users\\82104\\appdata\\local\\packages\\pythonsoftwarefoundation.python.3.11_qbz5n2kfra8p0\\localcache\\local-packages\\python311\\site-packages (from matplotlib!=3.6.1,>=3.4->seaborn) (0.12.1)\n",
      "Requirement already satisfied: fonttools>=4.22.0 in c:\\users\\82104\\appdata\\local\\packages\\pythonsoftwarefoundation.python.3.11_qbz5n2kfra8p0\\localcache\\local-packages\\python311\\site-packages (from matplotlib!=3.6.1,>=3.4->seaborn) (4.50.0)\n",
      "Requirement already satisfied: kiwisolver>=1.3.1 in c:\\users\\82104\\appdata\\local\\packages\\pythonsoftwarefoundation.python.3.11_qbz5n2kfra8p0\\localcache\\local-packages\\python311\\site-packages (from matplotlib!=3.6.1,>=3.4->seaborn) (1.4.5)\n",
      "Requirement already satisfied: packaging>=20.0 in c:\\users\\82104\\appdata\\local\\packages\\pythonsoftwarefoundation.python.3.11_qbz5n2kfra8p0\\localcache\\local-packages\\python311\\site-packages (from matplotlib!=3.6.1,>=3.4->seaborn) (23.1)\n",
      "Requirement already satisfied: pillow>=8 in c:\\users\\82104\\appdata\\local\\packages\\pythonsoftwarefoundation.python.3.11_qbz5n2kfra8p0\\localcache\\local-packages\\python311\\site-packages (from matplotlib!=3.6.1,>=3.4->seaborn) (10.3.0)\n",
      "Requirement already satisfied: pyparsing>=2.3.1 in c:\\users\\82104\\appdata\\local\\packages\\pythonsoftwarefoundation.python.3.11_qbz5n2kfra8p0\\localcache\\local-packages\\python311\\site-packages (from matplotlib!=3.6.1,>=3.4->seaborn) (3.1.2)\n",
      "Requirement already satisfied: python-dateutil>=2.7 in c:\\users\\82104\\appdata\\local\\packages\\pythonsoftwarefoundation.python.3.11_qbz5n2kfra8p0\\localcache\\local-packages\\python311\\site-packages (from matplotlib!=3.6.1,>=3.4->seaborn) (2.8.2)\n",
      "Requirement already satisfied: pytz>=2020.1 in c:\\users\\82104\\appdata\\local\\packages\\pythonsoftwarefoundation.python.3.11_qbz5n2kfra8p0\\localcache\\local-packages\\python311\\site-packages (from pandas>=1.2->seaborn) (2023.3)\n",
      "Requirement already satisfied: tzdata>=2022.1 in c:\\users\\82104\\appdata\\local\\packages\\pythonsoftwarefoundation.python.3.11_qbz5n2kfra8p0\\localcache\\local-packages\\python311\\site-packages (from pandas>=1.2->seaborn) (2023.3)\n",
      "Requirement already satisfied: six>=1.5 in c:\\users\\82104\\appdata\\local\\packages\\pythonsoftwarefoundation.python.3.11_qbz5n2kfra8p0\\localcache\\local-packages\\python311\\site-packages (from python-dateutil>=2.7->matplotlib!=3.6.1,>=3.4->seaborn) (1.16.0)\n"
     ]
    },
    {
     "name": "stderr",
     "output_type": "stream",
     "text": [
      "\n",
      "[notice] A new release of pip is available: 23.2.1 -> 24.0\n",
      "[notice] To update, run: C:\\Users\\82104\\AppData\\Local\\Microsoft\\WindowsApps\\PythonSoftwareFoundation.Python.3.11_qbz5n2kfra8p0\\python.exe -m pip install --upgrade pip\n"
     ]
    },
    {
     "name": "stdout",
     "output_type": "stream",
     "text": [
      "Requirement already satisfied: scikit-learn in c:\\users\\82104\\appdata\\local\\packages\\pythonsoftwarefoundation.python.3.11_qbz5n2kfra8p0\\localcache\\local-packages\\python311\\site-packages (1.4.1.post1)\n",
      "Requirement already satisfied: numpy<2.0,>=1.19.5 in c:\\users\\82104\\appdata\\local\\packages\\pythonsoftwarefoundation.python.3.11_qbz5n2kfra8p0\\localcache\\local-packages\\python311\\site-packages (from scikit-learn) (1.25.2)\n",
      "Requirement already satisfied: scipy>=1.6.0 in c:\\users\\82104\\appdata\\local\\packages\\pythonsoftwarefoundation.python.3.11_qbz5n2kfra8p0\\localcache\\local-packages\\python311\\site-packages (from scikit-learn) (1.13.0)\n",
      "Requirement already satisfied: joblib>=1.2.0 in c:\\users\\82104\\appdata\\local\\packages\\pythonsoftwarefoundation.python.3.11_qbz5n2kfra8p0\\localcache\\local-packages\\python311\\site-packages (from scikit-learn) (1.3.2)\n",
      "Requirement already satisfied: threadpoolctl>=2.0.0 in c:\\users\\82104\\appdata\\local\\packages\\pythonsoftwarefoundation.python.3.11_qbz5n2kfra8p0\\localcache\\local-packages\\python311\\site-packages (from scikit-learn) (3.4.0)\n"
     ]
    },
    {
     "name": "stderr",
     "output_type": "stream",
     "text": [
      "\n",
      "[notice] A new release of pip is available: 23.2.1 -> 24.0\n",
      "[notice] To update, run: C:\\Users\\82104\\AppData\\Local\\Microsoft\\WindowsApps\\PythonSoftwareFoundation.Python.3.11_qbz5n2kfra8p0\\python.exe -m pip install --upgrade pip\n"
     ]
    }
   ],
   "source": [
    "!pip install pandas\n",
    "!pip install nltk\n",
    "!pip install matplotlib\n",
    "!pip install seaborn\n",
    "!pip install scikit-learn\n",
    "\n",
    "# 파이썬 3.11.5 버전을 사용하였다."
   ]
  },
  {
   "cell_type": "markdown",
   "metadata": {},
   "source": [
    "## 2. 데이터 전처리"
   ]
  },
  {
   "cell_type": "markdown",
   "metadata": {},
   "source": [
    "## 데이터 정리"
   ]
  },
  {
   "cell_type": "code",
   "execution_count": 20,
   "metadata": {},
   "outputs": [
    {
     "name": "stdout",
     "output_type": "stream",
     "text": [
      "                     id asins            brand  \\\n",
      "0  AV13ClKCGV-KLJ3akN68   NaN            Gallo   \n",
      "1  AV13CsvW-jtxr-f38AQO   NaN  Fresh Craft Co.   \n",
      "2  AV13CVI_glJLPUi8O7Po   NaN     1000 Stories   \n",
      "3  AV13CVI_glJLPUi8O7Po   NaN     1000 Stories   \n",
      "4  AV13CYL4-jtxr-f37_-t   NaN     Wine Cube153   \n",
      "\n",
      "                                          categories             dateAdded  \\\n",
      "0  Food & Beverage,Beverages,Wine, Beer & Liquor,...  2017-07-24T23:59:11Z   \n",
      "1  Food & Beverage,Beverages,Wine, Beer & Liquor,...  2017-07-24T23:59:42Z   \n",
      "2  Food & Beverage,Beverages,Wine, Beer & Liquor,...  2017-07-24T23:58:05Z   \n",
      "3  Food & Beverage,Beverages,Wine, Beer & Liquor,...  2017-07-24T23:58:05Z   \n",
      "4  Food & Beverage,Beverages,Wine, Beer & Liquor,...  2017-07-24T23:58:18Z   \n",
      "\n",
      "            dateUpdated                                       descriptions  \\\n",
      "0  2018-01-10T18:06:28Z                                                NaN   \n",
      "1  2018-01-10T05:38:33Z  [{\"dateSeen\":[\"2017-12-21T05:43:00.000Z\",\"2017...   \n",
      "2  2018-01-10T05:38:31Z                                                NaN   \n",
      "3  2018-01-10T05:38:31Z                                                NaN   \n",
      "4  2018-01-10T18:06:29Z  [{\"dateSeen\":[\"2017-12-21T05:43:00.000Z\",\"2017...   \n",
      "\n",
      "                     dimension  ean flavors  ...  \\\n",
      "0     1.0 in x 1.0 in x 1.0 in  NaN     NaN  ...   \n",
      "1  4.25 in x 4.25 in x 5.25 in  NaN     NaN  ...   \n",
      "2   3.3 in x 3.3 in x 11.79 in  NaN     NaN  ...   \n",
      "3   3.3 in x 3.3 in x 11.79 in  NaN     NaN  ...   \n",
      "4     1.0 in x 1.0 in x 1.0 in  NaN     NaN  ...   \n",
      "\n",
      "                                  reviews.sourceURLs  \\\n",
      "0  https://redsky.target.com/groot-domain-api/v1/...   \n",
      "1  https://redsky.target.com/groot-domain-api/v1/...   \n",
      "2  https://redsky.target.com/groot-domain-api/v1/...   \n",
      "3  https://redsky.target.com/groot-domain-api/v1/...   \n",
      "4  https://redsky.target.com/groot-domain-api/v1/...   \n",
      "\n",
      "                                        reviews.text  \\\n",
      "0      This a fantastic white wine for any occasion!   \n",
      "1   Tart, not sweet...very refreshing and delicious!   \n",
      "2  I was given this wine so it was a delightful s...   \n",
      "3  This is a phenomenal wine and my new favorite ...   \n",
      "4  4 750ml bottles for the price of two With way ...   \n",
      "\n",
      "                          reviews.title reviews.userCity reviews.userProvince  \\\n",
      "0                My Favorite White Wine              NaN                  NaN   \n",
      "1                                 Yum!!              NaN                  NaN   \n",
      "2                       A New Favorite!              NaN                  NaN   \n",
      "3  Bold, Flavorful, Aromatic, Delicious              NaN                  NaN   \n",
      "4  Yum! Plus, Environmentally Friendly!    Overland Park                  NaN   \n",
      "\n",
      "  reviews.username sizes                                         sourceURLs  \\\n",
      "0              Bjh   NaN  http://redsky.target.com/v1/plp/search?kwr=y&c...   \n",
      "1             Wino   NaN  http://redsky.target.com/v1/plp/search?kwr=y&c...   \n",
      "2         Bama Mom   NaN  http://redsky.target.com/v1/plp/search?kwr=y&c...   \n",
      "3           Av Dub   NaN  http://redsky.target.com/v1/plp/search?kwr=y&c...   \n",
      "4       Chelseamay   NaN  https://redsky.target.com/groot-domain-api/v1/...   \n",
      "\n",
      "           upc    weight  \n",
      "0     4.92E+11   1.0 lbs  \n",
      "1  83120003441  2.45 lbs  \n",
      "2  82896001453  3.09 lbs  \n",
      "3  82896001453  3.09 lbs  \n",
      "4  85200600465   1.0 lbs  \n",
      "\n",
      "[5 rows x 32 columns]\n"
     ]
    }
   ],
   "source": [
    "import pandas as pd\n",
    "import nltk\n",
    "import seaborn as sns\n",
    "import matplotlib.pyplot as plt\n",
    "from nltk.sentiment.vader import SentimentIntensityAnalyzer\n",
    "from sklearn.model_selection import GridSearchCV, cross_val_score, train_test_split\n",
    "from sklearn.ensemble import RandomForestClassifier\n",
    "from sklearn.metrics import classification_report, confusion_matrix, roc_curve, auc, roc_auc_score\n",
    "\n",
    "# 데이터 로드 (인코딩 설정 추가)\n",
    "data = pd.read_csv('./wine_review.csv', encoding='ISO-8859-1')\n",
    "# 어느순간 read 과정에서 인코딩 오류가 생겨 추가\n",
    "\n",
    "data = pd.read_csv('./wine_review.csv', encoding='ISO-8859-1')\n",
    "# 데이터 확인\n",
    "print(data.head())"
   ]
  },
  {
   "cell_type": "code",
   "execution_count": 2,
   "metadata": {},
   "outputs": [
    {
     "name": "stdout",
     "output_type": "stream",
     "text": [
      "<class 'pandas.core.frame.DataFrame'>\n",
      "RangeIndex: 2890 entries, 0 to 2889\n",
      "Data columns (total 32 columns):\n",
      " #   Column                Non-Null Count  Dtype  \n",
      "---  ------                --------------  -----  \n",
      " 0   id                    2890 non-null   object \n",
      " 1   asins                 870 non-null    object \n",
      " 2   brand                 2825 non-null   object \n",
      " 3   categories            2890 non-null   object \n",
      " 4   dateAdded             2890 non-null   object \n",
      " 5   dateUpdated           2890 non-null   object \n",
      " 6   descriptions          2738 non-null   object \n",
      " 7   dimension             1838 non-null   object \n",
      " 8   ean                   2166 non-null   object \n",
      " 9   flavors               151 non-null    object \n",
      " 10  keys                  2890 non-null   object \n",
      " 11  manufacturer          849 non-null    object \n",
      " 12  manufacturerNumber    2457 non-null   object \n",
      " 13  name                  2890 non-null   object \n",
      " 14  reviews.date          2552 non-null   object \n",
      " 15  reviews.dateAdded     2890 non-null   object \n",
      " 16  reviews.dateSeen      2890 non-null   object \n",
      " 17  reviews.didPurchase   2049 non-null   object \n",
      " 18  reviews.doRecommend   1911 non-null   object \n",
      " 19  reviews.id            1885 non-null   float64\n",
      " 20  reviews.numHelpful    626 non-null    float64\n",
      " 21  reviews.rating        2445 non-null   float64\n",
      " 22  reviews.sourceURLs    2890 non-null   object \n",
      " 23  reviews.text          2889 non-null   object \n",
      " 24  reviews.title         2846 non-null   object \n",
      " 25  reviews.userCity      82 non-null     object \n",
      " 26  reviews.userProvince  9 non-null      object \n",
      " 27  reviews.username      2888 non-null   object \n",
      " 28  sizes                 22 non-null     object \n",
      " 29  sourceURLs            2890 non-null   object \n",
      " 30  upc                   2743 non-null   object \n",
      " 31  weight                996 non-null    object \n",
      "dtypes: float64(3), object(29)\n",
      "memory usage: 722.6+ KB\n",
      "None\n"
     ]
    }
   ],
   "source": [
    "print(data.info())"
   ]
  },
  {
   "cell_type": "code",
   "execution_count": 3,
   "metadata": {},
   "outputs": [
    {
     "name": "stdout",
     "output_type": "stream",
     "text": [
      "브랜드별 데이터 개수와 평균 평점 (내림차순 정렬):\n",
      "                          평균 평점  데이터 개수\n",
      "brand                                  \n",
      "Carmex                 4.878049    1045\n",
      "Master of Mixes        4.555556     138\n",
      "Jim Beam               4.902256     133\n",
      "Bittermens             4.566667     128\n",
      "Great Value            3.651163     114\n",
      "...                         ...     ...\n",
      "Pat O'Brien's               NaN       1\n",
      "George Killian's       4.000000       1\n",
      "Beringer               5.000000       1\n",
      "Belle                  5.000000       1\n",
      "Robert Mondavi Winery  5.000000       1\n",
      "\n",
      "[193 rows x 2 columns]\n"
     ]
    }
   ],
   "source": [
    "# 필요한 열 선택\n",
    "wine_selected_columns = [\n",
    "    'brand',\n",
    "    'reviews.rating'\n",
    "]\n",
    "\n",
    "# 선택한 열로 데이터 필터링\n",
    "wine_data = data[wine_selected_columns]\n",
    "\n",
    "# 브랜드 별 평균 평점 계산\n",
    "brand_avg_rating = wine_data.groupby('brand')['reviews.rating'].mean()\n",
    "\n",
    "# 브랜드별 데이터 개수 계산\n",
    "brand_counts = data['brand'].value_counts()\n",
    "\n",
    "# 데이터프레임으로 변환하여 병합\n",
    "brand_stats = pd.DataFrame({'평균 평점': brand_avg_rating, '데이터 개수': brand_counts})\n",
    "\n",
    "# 데이터 정렬 (데이터 개수 기준으로 내림차순)\n",
    "brand_stats_sorted = brand_stats.sort_values(by='데이터 개수', ascending=False)\n",
    "\n",
    "# 결과 출력\n",
    "print(\"브랜드별 데이터 개수와 평균 평점 (내림차순 정렬):\")\n",
    "print(brand_stats_sorted)\n"
   ]
  },
  {
   "cell_type": "markdown",
   "metadata": {},
   "source": [
    "브랜드에 따른 평점을 확인 해 보았을 때 몇몇 브랜드에서 낮은 점수를 보이는것이 눈에 띈다.\n",
    "\n",
    "하지만 앞으로 진행할 감정 분석에서 brand 열에 결측값 때문에 전체 데이터가 작아지는것을 막기 위하여 brand 열도 제거한다."
   ]
  },
  {
   "cell_type": "code",
   "execution_count": 4,
   "metadata": {},
   "outputs": [
    {
     "name": "stdout",
     "output_type": "stream",
     "text": [
      "   reviews.rating                                       reviews.text  \\\n",
      "0             5.0      This a fantastic white wine for any occasion!   \n",
      "1             5.0   Tart, not sweet...very refreshing and delicious!   \n",
      "2             5.0  I was given this wine so it was a delightful s...   \n",
      "3             5.0  This is a phenomenal wine and my new favorite ...   \n",
      "4             5.0  4 750ml bottles for the price of two With way ...   \n",
      "\n",
      "                          reviews.title  \n",
      "0                My Favorite White Wine  \n",
      "1                                 Yum!!  \n",
      "2                       A New Favorite!  \n",
      "3  Bold, Flavorful, Aromatic, Delicious  \n",
      "4  Yum! Plus, Environmentally Friendly!  \n"
     ]
    }
   ],
   "source": [
    "#필요한 열만 남기기\n",
    "wine_selected_columns = [\n",
    "    'reviews.rating',\n",
    "    'reviews.text',\n",
    "    'reviews.title',\n",
    "]\n",
    "\n",
    "wine_data = data[wine_selected_columns]\n",
    "\n",
    "# 결과 확인\n",
    "print(wine_data.head())"
   ]
  },
  {
   "cell_type": "code",
   "execution_count": 5,
   "metadata": {},
   "outputs": [
    {
     "name": "stdout",
     "output_type": "stream",
     "text": [
      "<class 'pandas.core.frame.DataFrame'>\n",
      "RangeIndex: 2890 entries, 0 to 2889\n",
      "Data columns (total 3 columns):\n",
      " #   Column          Non-Null Count  Dtype  \n",
      "---  ------          --------------  -----  \n",
      " 0   reviews.rating  2445 non-null   float64\n",
      " 1   reviews.text    2889 non-null   object \n",
      " 2   reviews.title   2846 non-null   object \n",
      "dtypes: float64(1), object(2)\n",
      "memory usage: 67.9+ KB\n",
      "None\n"
     ]
    }
   ],
   "source": [
    "print(wine_data.info())"
   ]
  },
  {
   "cell_type": "markdown",
   "metadata": {},
   "source": [
    "가장 중요하다고 생각되는 reviews.rating 열에 결측값이 약 450개 가량 존재 하므로 reviews.rating 데이터가 없는 행을 지운다."
   ]
  },
  {
   "cell_type": "code",
   "execution_count": 6,
   "metadata": {},
   "outputs": [
    {
     "name": "stdout",
     "output_type": "stream",
     "text": [
      "데이터 처리 후 정보:\n",
      "<class 'pandas.core.frame.DataFrame'>\n",
      "Index: 2406 entries, 0 to 2889\n",
      "Data columns (total 3 columns):\n",
      " #   Column          Non-Null Count  Dtype  \n",
      "---  ------          --------------  -----  \n",
      " 0   reviews.rating  2406 non-null   float64\n",
      " 1   reviews.text    2406 non-null   object \n",
      " 2   reviews.title   2406 non-null   object \n",
      "dtypes: float64(1), object(2)\n",
      "memory usage: 75.2+ KB\n",
      "None\n"
     ]
    }
   ],
   "source": [
    "# 누락된 데이터 삭제 (결측값 처리)\n",
    "wine_data= wine_data.dropna()\n",
    "\n",
    "# 데이터 처리 후 정보 확인\n",
    "print(\"데이터 처리 후 정보:\")\n",
    "print(wine_data.info())"
   ]
  },
  {
   "cell_type": "markdown",
   "metadata": {},
   "source": [
    "최종적으로 결측값 처리되어 2406 개의 데이터가 남은것을 볼 수 있다."
   ]
  },
  {
   "cell_type": "code",
   "execution_count": 7,
   "metadata": {},
   "outputs": [
    {
     "name": "stdout",
     "output_type": "stream",
     "text": [
      "   reviews.rating                                       reviews.text  \\\n",
      "0             5.0      This a fantastic white wine for any occasion!   \n",
      "1             5.0   Tart, not sweet...very refreshing and delicious!   \n",
      "2             5.0  I was given this wine so it was a delightful s...   \n",
      "3             5.0  This is a phenomenal wine and my new favorite ...   \n",
      "4             5.0  4 750ml bottles for the price of two With way ...   \n",
      "\n",
      "                          reviews.title  \n",
      "0                My Favorite White Wine  \n",
      "1                                 Yum!!  \n",
      "2                       A New Favorite!  \n",
      "3  Bold, Flavorful, Aromatic, Delicious  \n",
      "4  Yum! Plus, Environmentally Friendly!  \n"
     ]
    }
   ],
   "source": [
    "print(wine_data.head())"
   ]
  },
  {
   "cell_type": "markdown",
   "metadata": {},
   "source": [
    "## 토큰화 및 불용어 제거"
   ]
  },
  {
   "cell_type": "markdown",
   "metadata": {},
   "source": [
    "불용어 제거를 하기전 reviews.text 열에서 가장 많은 단어의 수를 체크해 보았다."
   ]
  },
  {
   "cell_type": "code",
   "execution_count": 8,
   "metadata": {},
   "outputs": [
    {
     "name": "stdout",
     "output_type": "stream",
     "text": [
      "reviews.text 열에서 가장 많은 단어 수: 332 단어\n"
     ]
    }
   ],
   "source": [
    "from nltk.tokenize import word_tokenize\n",
    "\n",
    "# 각 리뷰의 단어 수를 계산하는 함수 정의\n",
    "def count_words(text):\n",
    "    words = word_tokenize(text)  # 텍스트를 토큰화하여 단어로 분리\n",
    "    return len(words)  # 단어의 개수 반환\n",
    "\n",
    "# 각 리뷰의 단어 수 계산\n",
    "wine_data['word_count'] = wine_data['reviews.text'].apply(count_words)\n",
    "\n",
    "# 가장 많은 단어 수 찾기\n",
    "max_word_count = wine_data['word_count'].max()\n",
    "\n",
    "print(f\"reviews.text 열에서 가장 많은 단어 수: {max_word_count} 단어\")"
   ]
  },
  {
   "cell_type": "markdown",
   "metadata": {},
   "source": [
    "불용어 처리하기전에는 가장 많은 리뷰 단어수가 332 단어이다."
   ]
  },
  {
   "cell_type": "markdown",
   "metadata": {},
   "source": [
    "불용어 처리하는 과정에서 토큰화가 이루어졌다"
   ]
  },
  {
   "cell_type": "code",
   "execution_count": 9,
   "metadata": {},
   "outputs": [
    {
     "name": "stdout",
     "output_type": "stream",
     "text": [
      "Requirement already satisfied: nltk in c:\\users\\82104\\appdata\\local\\packages\\pythonsoftwarefoundation.python.3.11_qbz5n2kfra8p0\\localcache\\local-packages\\python311\\site-packages (3.8.1)\n",
      "Requirement already satisfied: click in c:\\users\\82104\\appdata\\local\\packages\\pythonsoftwarefoundation.python.3.11_qbz5n2kfra8p0\\localcache\\local-packages\\python311\\site-packages (from nltk) (8.1.7)\n",
      "Requirement already satisfied: joblib in c:\\users\\82104\\appdata\\local\\packages\\pythonsoftwarefoundation.python.3.11_qbz5n2kfra8p0\\localcache\\local-packages\\python311\\site-packages (from nltk) (1.3.2)\n",
      "Requirement already satisfied: regex>=2021.8.3 in c:\\users\\82104\\appdata\\local\\packages\\pythonsoftwarefoundation.python.3.11_qbz5n2kfra8p0\\localcache\\local-packages\\python311\\site-packages (from nltk) (2024.4.28)\n",
      "Requirement already satisfied: tqdm in c:\\users\\82104\\appdata\\local\\packages\\pythonsoftwarefoundation.python.3.11_qbz5n2kfra8p0\\localcache\\local-packages\\python311\\site-packages (from nltk) (4.66.1)\n",
      "Requirement already satisfied: colorama in c:\\users\\82104\\appdata\\local\\packages\\pythonsoftwarefoundation.python.3.11_qbz5n2kfra8p0\\localcache\\local-packages\\python311\\site-packages (from click->nltk) (0.4.6)\n",
      "Note: you may need to restart the kernel to use updated packages.\n",
      "   reviews.rating                                       reviews.text  \\\n",
      "0             5.0                     fantastic white wine occasion!   \n",
      "1             5.0           Tart, sweet...very refreshing delicious!   \n",
      "2             5.0  given wine delightful surprise find flavorful ...   \n",
      "3             5.0                  phenomenal wine new favorite red.   \n",
      "4             5.0  4 750ml bottles price two way less packaging Y...   \n",
      "\n",
      "                          reviews.title  word_count  \n",
      "0                   Favorite White Wine           9  \n",
      "1                                 Yum!!          10  \n",
      "2                         New Favorite!          29  \n",
      "3  Bold, Flavorful, Aromatic, Delicious          11  \n",
      "4  Yum! Plus, Environmentally Friendly!          76  \n"
     ]
    },
    {
     "name": "stderr",
     "output_type": "stream",
     "text": [
      "\n",
      "[notice] A new release of pip is available: 23.2.1 -> 24.0\n",
      "[notice] To update, run: C:\\Users\\82104\\AppData\\Local\\Microsoft\\WindowsApps\\PythonSoftwareFoundation.Python.3.11_qbz5n2kfra8p0\\python.exe -m pip install --upgrade pip\n",
      "[nltk_data] Downloading package stopwords to\n",
      "[nltk_data]     C:\\Users\\82104\\AppData\\Roaming\\nltk_data...\n",
      "[nltk_data]   Package stopwords is already up-to-date!\n",
      "[nltk_data] Downloading package punkt to\n",
      "[nltk_data]     C:\\Users\\82104\\AppData\\Roaming\\nltk_data...\n",
      "[nltk_data]   Package punkt is already up-to-date!\n",
      "[nltk_data] Downloading package wordnet to\n",
      "[nltk_data]     C:\\Users\\82104\\AppData\\Roaming\\nltk_data...\n",
      "[nltk_data]   Package wordnet is already up-to-date!\n"
     ]
    }
   ],
   "source": [
    "%pip install nltk\n",
    "\n",
    "## 불용어 처리 과정\n",
    "import nltk\n",
    "from nltk.corpus import stopwords\n",
    "from nltk.stem import PorterStemmer, WordNetLemmatizer\n",
    "\n",
    "\n",
    "# NLTK 불용어 세트 다운로드\n",
    "nltk.download('stopwords')\n",
    "nltk.download('punkt')\n",
    "nltk.download('wordnet') # VADER 감정 분석기에 필요한 어휘 자료를 다운로드\n",
    "\n",
    "cache = set(stopwords.words(\"english\"))\n",
    "\n",
    "# 불용어 제거 함수 정의\n",
    "def remove_stopwords(review):\n",
    "    words = review.split()  # 텍스트를 단어로 분리 (토큰화)\n",
    "    filtered_words = [word for word in words if word.lower() not in cache]  # 불용어가 아닌 단어만 선택\n",
    "    return ' '.join(filtered_words)  # 필터링된 단어들을 다시 문장으로 결합\n",
    "\n",
    "# reviews.text 열에 불용어 제거 적용\n",
    "wine_data['reviews.text'] = wine_data['reviews.text'].apply(remove_stopwords)\n",
    "\n",
    "# reviews.title 열에 불용어 제거 적용\n",
    "wine_data['reviews.title'] = wine_data['reviews.title'].apply(remove_stopwords)\n",
    "\n",
    "# 결과 확인\n",
    "print(wine_data.head())"
   ]
  },
  {
   "cell_type": "markdown",
   "metadata": {},
   "source": [
    "불용어(Stopword) 가 처리 되어 \"the\", \"a\", \"an\" 단어들이 삭제된 것을 확인 할 수 있다."
   ]
  },
  {
   "cell_type": "code",
   "execution_count": 10,
   "metadata": {},
   "outputs": [
    {
     "name": "stdout",
     "output_type": "stream",
     "text": [
      "reviews.text 열에서 가장 많은 단어 수: 250 단어\n"
     ]
    }
   ],
   "source": [
    "# 각 리뷰의 단어 수를 계산하는 함수 정의\n",
    "def count_words(text):\n",
    "    words = word_tokenize(text)  # 텍스트를 토큰화하여 단어로 분리\n",
    "    return len(words)  # 단어의 개수 반환\n",
    "\n",
    "# 각 리뷰의 단어 수 계산\n",
    "wine_data['word_count'] = wine_data['reviews.text'].apply(count_words)\n",
    "\n",
    "# 가장 많은 단어 수 찾기\n",
    "max_word_count = wine_data['word_count'].max()\n",
    "\n",
    "print(f\"reviews.text 열에서 가장 많은 단어 수: {max_word_count} 단어\")"
   ]
  },
  {
   "cell_type": "markdown",
   "metadata": {},
   "source": [
    "가장 많은 단어 수 또한 332 단어에서 250 단어로 감소 된 것을 확인 할 수 있다."
   ]
  },
  {
   "cell_type": "markdown",
   "metadata": {},
   "source": [
    "## 텍스트 정규화"
   ]
  },
  {
   "cell_type": "code",
   "execution_count": 11,
   "metadata": {},
   "outputs": [
    {
     "name": "stdout",
     "output_type": "stream",
     "text": [
      "   reviews.rating                                       reviews.text  \\\n",
      "0             5.0                         fantast white wine occas !   \n",
      "1             5.0             tart , sweet ... veri refresh delici !   \n",
      "2             5.0  given wine delight surpris find flavor delici ...   \n",
      "3             5.0                    phenomen wine new favorit red .   \n",
      "4             5.0  4 750ml bottl price two way le packag ye plea ...   \n",
      "\n",
      "                        reviews.title  word_count  \n",
      "0                  favorit white wine           5  \n",
      "1                             yum ! !           8  \n",
      "2                       new favorit !          15  \n",
      "3     bold , flavor , aromat , delici           6  \n",
      "4  yum ! plu , environment friendli !          37  \n"
     ]
    }
   ],
   "source": [
    "# 스테머와 표제어 추출기 초기화\n",
    "stemmer = PorterStemmer()\n",
    "lemmatizer = WordNetLemmatizer()\n",
    "\n",
    "## 스테밍 :단어의 어간을 추출하는 과정 ( ex) running, ran, runner -> run ) \n",
    "# 스테밍 함수 정의\n",
    "def apply_stemming(review):\n",
    "    words = word_tokenize(review)\n",
    "    stemmed_words = [stemmer.stem(word) for word in words]\n",
    "    return ' '.join(stemmed_words)\n",
    "\n",
    "## 표제어 추출 : 단어의 원형을 추출하는 과정 ( ex) am, are, is -> be )\n",
    "# 표제어 추출 함수 정의\n",
    "def apply_lemmatization(review):\n",
    "    words = word_tokenize(review)\n",
    "    lemmatized_words = [lemmatizer.lemmatize(word) for word in words]\n",
    "    return ' '.join(lemmatized_words)\n",
    "\n",
    "# reviews.text 열에 스테밍 적용\n",
    "wine_data['reviews.text'] = wine_data['reviews.text'].apply(apply_stemming)\n",
    "\n",
    "# reviews.title 열에 스테밍 적용\n",
    "wine_data['reviews.title'] = wine_data['reviews.title'].apply(apply_stemming)\n",
    "\n",
    "# reviews.text 열에 표제어 추출 적용\n",
    "wine_data['reviews.text'] = wine_data['reviews.text'].apply(apply_lemmatization)\n",
    "\n",
    "# reviews.title 열에 표제어 추출 적용\n",
    "wine_data['reviews.title'] = wine_data['reviews.title'].apply(apply_lemmatization) \n",
    "\n",
    "# 결과 확인\n",
    "print(wine_data.head())"
   ]
  },
  {
   "cell_type": "markdown",
   "metadata": {},
   "source": [
    "## 3. 모델 구현"
   ]
  },
  {
   "cell_type": "code",
   "execution_count": 12,
   "metadata": {},
   "outputs": [
    {
     "name": "stderr",
     "output_type": "stream",
     "text": [
      "[nltk_data] Downloading package vader_lexicon to\n",
      "[nltk_data]     C:\\Users\\82104\\AppData\\Roaming\\nltk_data...\n",
      "[nltk_data]   Package vader_lexicon is already up-to-date!\n"
     ]
    },
    {
     "name": "stdout",
     "output_type": "stream",
     "text": [
      "   reviews.rating                                       reviews.text  \\\n",
      "0             5.0                         fantast white wine occas !   \n",
      "1             5.0             tart , sweet ... veri refresh delici !   \n",
      "2             5.0  given wine delight surpris find flavor delici ...   \n",
      "3             5.0                    phenomen wine new favorit red .   \n",
      "4             5.0  4 750ml bottl price two way le packag ye plea ...   \n",
      "\n",
      "                        reviews.title  word_count  text_sentiment  \\\n",
      "0                  favorit white wine           5          0.0000   \n",
      "1                             yum ! !           8          0.5093   \n",
      "2                       new favorit !          15          0.7243   \n",
      "3     bold , flavor , aromat , delici           6          0.0000   \n",
      "4  yum ! plu , environment friendli !          37          0.8652   \n",
      "\n",
      "   title_sentiment  \n",
      "0           0.0000  \n",
      "1           0.0000  \n",
      "2           0.0000  \n",
      "3           0.3818  \n",
      "4           0.0000  \n"
     ]
    }
   ],
   "source": [
    "import pandas as pd\n",
    "from nltk.sentiment.vader import SentimentIntensityAnalyzer\n",
    "import nltk\n",
    "\n",
    "# NLTK에서 VADER lexicon 다운로드\n",
    "nltk.download('vader_lexicon')\n",
    "\n",
    "# VADER 감정 분석기 초기화\n",
    "vader_sentiment = SentimentIntensityAnalyzer()\n",
    "\n",
    "# 감정 계산 함수 정의\n",
    "def calc_sentiment(review):\n",
    "    if review == \"No Negative\" or review == \"No Positive\":\n",
    "        return 0\n",
    "    return vader_sentiment.polarity_scores(review)[\"compound\"]\n",
    "\n",
    "# reviews.text 열에 감정 계산 함수 적용\n",
    "wine_data['text_sentiment'] = wine_data['reviews.text'].apply(calc_sentiment)\n",
    "\n",
    "# reviews.title 열에 감정 계산 함수 적용\n",
    "wine_data['title_sentiment'] = wine_data['reviews.title'].apply(calc_sentiment)\n",
    "\n",
    "# 결과 확인\n",
    "print(wine_data.head())"
   ]
  },
  {
   "cell_type": "markdown",
   "metadata": {},
   "source": [
    "## 4. 모델 학습 및 튜닝"
   ]
  },
  {
   "cell_type": "markdown",
   "metadata": {},
   "source": [
    "## 데이터셋 분할"
   ]
  },
  {
   "cell_type": "code",
   "execution_count": 13,
   "metadata": {},
   "outputs": [],
   "source": [
    "# 특성 및 타겟 변수 설정\n",
    "X = wine_data[['text_sentiment', 'title_sentiment']]\n",
    "y = wine_data['reviews.rating']\n",
    "\n",
    "# 학습 데이터와 테스트 데이터로 분할\n",
    "X_train, X_test, y_train, y_test = train_test_split(X, y, test_size=0.3, random_state=42)"
   ]
  },
  {
   "cell_type": "markdown",
   "metadata": {},
   "source": [
    "## 모델 학습 및 하이퍼 파라미터 튜닝"
   ]
  },
  {
   "cell_type": "code",
   "execution_count": 14,
   "metadata": {},
   "outputs": [],
   "source": [
    "# 랜덤 포레스트 분류기 초기화\n",
    "clf = RandomForestClassifier(random_state=42)\n",
    "\n",
    "# 하이퍼파라미터 그리드 설정\n",
    "param_grid = {\n",
    "    'n_estimators': [50, 100, 200],\n",
    "    'max_depth': [None, 10, 20, 30],\n",
    "    'min_samples_split': [2, 5, 10]\n",
    "}\n",
    "\n",
    "# 그리드 서치 설정\n",
    "grid_search = GridSearchCV(estimator=clf, param_grid=param_grid, cv=5, scoring='accuracy')\n",
    "\n",
    "# 모델 학습 및 하이퍼파라미터 튜닝\n",
    "grid_search.fit(X_train, y_train)\n",
    "\n",
    "# 최적의 모델 선택\n",
    "best_model = grid_search.best_estimator_\n"
   ]
  },
  {
   "cell_type": "markdown",
   "metadata": {},
   "source": [
    "## 교차 검증 점수 확인"
   ]
  },
  {
   "cell_type": "code",
   "execution_count": 15,
   "metadata": {},
   "outputs": [
    {
     "name": "stdout",
     "output_type": "stream",
     "text": [
      "교차 검증 평균 점수: 0.845015543309312\n"
     ]
    }
   ],
   "source": [
    "# 교차 검증 점수 확인\n",
    "cv_scores = cross_val_score(best_model, X_train, y_train, cv=5)\n",
    "print(f\"교차 검증 평균 점수: {cv_scores.mean()}\")"
   ]
  },
  {
   "cell_type": "markdown",
   "metadata": {},
   "source": [
    "교차 검증 평균 점수 0.8450 으로 높다고 판단된다."
   ]
  },
  {
   "cell_type": "markdown",
   "metadata": {},
   "source": [
    "## 5. 모델 평가와 시각화"
   ]
  },
  {
   "cell_type": "code",
   "execution_count": 16,
   "metadata": {},
   "outputs": [
    {
     "name": "stdout",
     "output_type": "stream",
     "text": [
      "                 text_sentiment  title_sentiment  reviews.rating\n",
      "text_sentiment         1.000000         0.148112        0.135264\n",
      "title_sentiment        0.148112         1.000000        0.173846\n",
      "reviews.rating         0.135264         0.173846        1.000000\n"
     ]
    }
   ],
   "source": [
    "# 감정 점수와 평점 간의 관계 분석\n",
    "print(wine_data[['text_sentiment', 'title_sentiment', 'reviews.rating']].corr())"
   ]
  },
  {
   "cell_type": "markdown",
   "metadata": {},
   "source": [
    "감성 점수와 평점간의 관계는 \n",
    "\n",
    "title_sentiment와 reviews.rating 이 0.135264\n",
    "\n",
    "text_sentiment와 reviews.rating 이 0.173846 으로 상당히 낮은 것으로 나타난다.\n"
   ]
  },
  {
   "cell_type": "code",
   "execution_count": 17,
   "metadata": {},
   "outputs": [
    {
     "name": "stdout",
     "output_type": "stream",
     "text": [
      "\n",
      "분류 모델 성능 평가:\n",
      "              precision    recall  f1-score   support\n",
      "\n",
      "         1.0       0.00      0.00      0.00        31\n",
      "         2.0       0.00      0.00      0.00         9\n",
      "         3.0       0.00      0.00      0.00        19\n",
      "         4.0       0.33      0.01      0.03        67\n",
      "         5.0       0.83      1.00      0.90       596\n",
      "\n",
      "    accuracy                           0.82       722\n",
      "   macro avg       0.23      0.20      0.19       722\n",
      "weighted avg       0.71      0.82      0.75       722\n",
      "\n"
     ]
    },
    {
     "name": "stderr",
     "output_type": "stream",
     "text": [
      "C:\\Users\\82104\\AppData\\Local\\Packages\\PythonSoftwareFoundation.Python.3.11_qbz5n2kfra8p0\\LocalCache\\local-packages\\Python311\\site-packages\\sklearn\\metrics\\_classification.py:1509: UndefinedMetricWarning: Precision is ill-defined and being set to 0.0 in labels with no predicted samples. Use `zero_division` parameter to control this behavior.\n",
      "  _warn_prf(average, modifier, f\"{metric.capitalize()} is\", len(result))\n",
      "C:\\Users\\82104\\AppData\\Local\\Packages\\PythonSoftwareFoundation.Python.3.11_qbz5n2kfra8p0\\LocalCache\\local-packages\\Python311\\site-packages\\sklearn\\metrics\\_classification.py:1509: UndefinedMetricWarning: Precision is ill-defined and being set to 0.0 in labels with no predicted samples. Use `zero_division` parameter to control this behavior.\n",
      "  _warn_prf(average, modifier, f\"{metric.capitalize()} is\", len(result))\n",
      "C:\\Users\\82104\\AppData\\Local\\Packages\\PythonSoftwareFoundation.Python.3.11_qbz5n2kfra8p0\\LocalCache\\local-packages\\Python311\\site-packages\\sklearn\\metrics\\_classification.py:1509: UndefinedMetricWarning: Precision is ill-defined and being set to 0.0 in labels with no predicted samples. Use `zero_division` parameter to control this behavior.\n",
      "  _warn_prf(average, modifier, f\"{metric.capitalize()} is\", len(result))\n"
     ]
    }
   ],
   "source": [
    "# 테스트 데이터 예측\n",
    "y_pred = best_model.predict(X_test)\n",
    "y_pred_proba = best_model.predict_proba(X_test)\n",
    "\n",
    "# 평가 지표 출력\n",
    "print(\"\\n분류 모델 성능 평가:\")\n",
    "print(classification_report(y_test, y_pred))"
   ]
  },
  {
   "cell_type": "markdown",
   "metadata": {},
   "source": [
    "하지만 데이터 예측의 결과를 보면 정확도는 0.82로 상당히 높은 것을 알 수 있었다.\n",
    "\n",
    "precision : 모델이 해당 클래스로 예측한 샘플 중 실제로 해당 클래스인 샘플의 비율\n",
    "\n",
    "recall : 실제 해당 클래스인 샘플 줄 모델이 해당 클래스로 정확히 예측한 비율\n",
    "\n",
    "f1-score : 정밀도와 재현율의 조화 평균\n",
    "\n",
    "surpport : 각 클래스의 실제 샘플 수\n",
    "\n",
    "1,2,3 평점에 대한 precision,recall,f1-score 가 모두 0이고, 5 점에 대한 예측 수는 매우 높은 것을 확인 할 수 있다. 사실상 대부분의 평점을 5로 예측한 것으로 볼 수 있다."
   ]
  },
  {
   "cell_type": "code",
   "execution_count": 18,
   "metadata": {},
   "outputs": [
    {
     "name": "stdout",
     "output_type": "stream",
     "text": [
      "\n",
      "전체 ROC-AUC 점수: 0.6669691916326235\n"
     ]
    },
    {
     "data": {
      "image/png": "[encoded data removed]",
      "text/plain": [
       "<Figure size 800x600 with 1 Axes>"
      ]
     },
     "metadata": {},
     "output_type": "display_data"
    }
   ],
   "source": [
    "# ROC 곡선 및 ROC-AUC 점수 계산 및 시각화\n",
    "roc_auc = roc_auc_score(y_test, y_pred_proba, multi_class='ovr', average='macro')\n",
    "print(f\"\\n전체 ROC-AUC 점수: {roc_auc}\")\n",
    "\n",
    "# 각 클래스별 ROC 곡선 그리기\n",
    "plt.figure(figsize=(8, 6))\n",
    "classes = [1, 2, 3, 4, 5]  # 실제 클래스 목록\n",
    "for i, cls in enumerate(classes):  # 각 클래스에 대해 반복\n",
    "    fpr, tpr, _ = roc_curve(y_test, y_pred_proba[:, i], pos_label=cls)\n",
    "    plt.plot(fpr, tpr, lw=2, label=f'ROC curve (Class {cls})')\n",
    "\n",
    "plt.plot([0, 1], [0, 1], color='gray', lw=1, linestyle='--')\n",
    "plt.xlabel('False Positive Rate')\n",
    "plt.ylabel('True Positive Rate')\n",
    "plt.title('ROC Curve')\n",
    "plt.legend(loc=\"lower right\")\n",
    "plt.show()\n"
   ]
  },
  {
   "cell_type": "markdown",
   "metadata": {},
   "source": [
    "ROC-AUC 점수는 0.6669 로 나름 준수 하다고는 볼 수 있을 것 같다."
   ]
  },
  {
   "cell_type": "code",
   "execution_count": 21,
   "metadata": {},
   "outputs": [
    {
     "data": {
      "image/png": "[encoded data removed]",
      "text/plain": [
       "<Figure size 800x600 with 2 Axes>"
      ]
     },
     "metadata": {},
     "output_type": "display_data"
    }
   ],
   "source": [
    "# 혼동 행렬 생성 및 시각화\n",
    "conf_matrix = confusion_matrix(y_test, y_pred)\n",
    "plt.figure(figsize=(8, 6))\n",
    "sns.heatmap(conf_matrix, annot=True, fmt='d', cmap='Blues', xticklabels=[1, 2, 3, 4], yticklabels=[1, 2, 3, 4])\n",
    "plt.xlabel('Predicted Label')\n",
    "plt.ylabel('True Label')\n",
    "plt.title('Confusion Matrix')\n",
    "plt.show()"
   ]
  },
  {
   "cell_type": "markdown",
   "metadata": {},
   "source": [
    "혼돈 행렬로 시각화 하여 확인해 보았다."
   ]
  },
  {
   "cell_type": "markdown",
   "metadata": {},
   "source": [
    "## 오버피팅과 언더피팅"
   ]
  },
  {
   "cell_type": "markdown",
   "metadata": {},
   "source": [
    "위의 결과는 모델의 정확도도 높았고 ROC-AUC 점수도 준수하긴 하였지만 사실상 대부분의 리뷰 레이팅이 5점이었다.\n",
    "\n",
    " 따라서 5점으로 예측을 하면 대부분의 예측이 맞는 상황이었고, 따라서 모델을 평가하기엔 힘든 상황이라고 판단하였다. \n",
    "\n",
    "따라서 리뷰 레이팅이 5점인 데이터들을 제외하고 모델의 성능을 확인해 보도록 하겠다."
   ]
  },
  {
   "cell_type": "code",
   "execution_count": 22,
   "metadata": {},
   "outputs": [
    {
     "name": "stderr",
     "output_type": "stream",
     "text": [
      "[nltk_data] Downloading package vader_lexicon to\n",
      "[nltk_data]     C:\\Users\\82104\\AppData\\Roaming\\nltk_data...\n",
      "[nltk_data]   Package vader_lexicon is already up-to-date!\n"
     ]
    },
    {
     "name": "stdout",
     "output_type": "stream",
     "text": [
      "상관 계수 행렬:\n",
      "                 reviews.rating  text_sentiment  title_sentiment\n",
      "reviews.rating         1.000000        0.256797         0.299398\n",
      "text_sentiment         0.256797        1.000000         0.240924\n",
      "title_sentiment        0.299398        0.240924         1.000000\n",
      "Fitting 5 folds for each of 108 candidates, totalling 540 fits\n",
      "\n",
      "분류 모델 성능 평가:\n",
      "              precision    recall  f1-score   support\n",
      "\n",
      "         1.0       0.25      0.16      0.19        19\n",
      "         2.0       1.00      0.10      0.18        10\n",
      "         3.0       0.14      0.06      0.08        17\n",
      "         4.0       0.66      0.90      0.76        71\n",
      "\n",
      "    accuracy                           0.59       117\n",
      "   macro avg       0.51      0.30      0.31       117\n",
      "weighted avg       0.55      0.59      0.52       117\n",
      "\n",
      "\n",
      "전체 ROC-AUC 점수: 0.6796843726690616\n"
     ]
    },
    {
     "data": {
      "image/png": "[encoded data removed]",
      "text/plain": [
       "<Figure size 800x600 with 1 Axes>"
      ]
     },
     "metadata": {},
     "output_type": "display_data"
    }
   ],
   "source": [
    "import pandas as pd\n",
    "from nltk.sentiment.vader import SentimentIntensityAnalyzer\n",
    "import nltk\n",
    "from sklearn.model_selection import GridSearchCV, cross_val_score, train_test_split\n",
    "from sklearn.ensemble import RandomForestClassifier\n",
    "from sklearn.metrics import classification_report, roc_auc_score, roc_curve\n",
    "import matplotlib.pyplot as plt\n",
    "from sklearn.metrics import f1_score\n",
    "\n",
    "# NLTK에서 VADER lexicon 다운로드\n",
    "nltk.download('vader_lexicon')\n",
    "\n",
    "# VADER 감정 분석기 초기화\n",
    "vader_sentiment = SentimentIntensityAnalyzer()\n",
    "\n",
    "# 감정 계산 함수 정의\n",
    "def calc_sentiment(review):\n",
    "    if review == \"No Negative\" or review == \"No Positive\":\n",
    "        return 0\n",
    "    return vader_sentiment.polarity_scores(review)[\"compound\"]\n",
    "\n",
    "# 예시 데이터프레임 로드 (실제 데이터프레임을 여기서 로드해야 함)\n",
    "# wine_data = pd.read_csv(\"path_to_wine_data.csv\")\n",
    "\n",
    "# reviews.text 열에 감정 계산 함수 적용\n",
    "wine_data['text_sentiment'] = wine_data['reviews.text'].apply(calc_sentiment)\n",
    "\n",
    "# reviews.title 열에 감정 계산 함수 적용\n",
    "wine_data['title_sentiment'] = wine_data['reviews.title'].apply(calc_sentiment)\n",
    "\n",
    "# 평점이 5인 데이터 제외\n",
    "low_rating_data = wine_data[wine_data['reviews.rating'].isin([1, 2, 3, 4])]\n",
    "\n",
    "# 상관 계수 계산\n",
    "correlation_matrix = low_rating_data[['reviews.rating', 'text_sentiment', 'title_sentiment']].corr()\n",
    "print(\"상관 계수 행렬:\")\n",
    "print(correlation_matrix)\n",
    "\n",
    "# 특성 및 타겟 변수 설정\n",
    "X = low_rating_data[['text_sentiment', 'title_sentiment']]\n",
    "y = low_rating_data['reviews.rating']\n",
    "\n",
    "# 학습 데이터와 테스트 데이터로 분할\n",
    "X_train, X_test, y_train, y_test = train_test_split(X, y, test_size=0.3, random_state=42)\n",
    "\n",
    "# 랜덤 포레스트 분류기 초기화\n",
    "clf = RandomForestClassifier(random_state=42)\n",
    "\n",
    "# 그리드 서치를 사용한 하이퍼파라미터 튜닝\n",
    "param_grid = {\n",
    "    'n_estimators': [50, 100, 200],\n",
    "    'max_depth': [None, 10, 20, 30],\n",
    "    'min_samples_split': [2, 5, 10],\n",
    "    'min_samples_leaf': [1, 2, 4]\n",
    "}\n",
    "grid_search = GridSearchCV(estimator=clf, param_grid=param_grid, cv=5, n_jobs=-1, verbose=2)\n",
    "grid_search.fit(X_train, y_train)\n",
    "\n",
    "# 최적 모델로 예측\n",
    "best_model = grid_search.best_estimator_\n",
    "y_pred = best_model.predict(X_test)\n",
    "y_pred_proba = best_model.predict_proba(X_test)\n",
    "\n",
    "# 평가 지표 출력\n",
    "print(\"\\n분류 모델 성능 평가:\")\n",
    "print(classification_report(y_test, y_pred))\n",
    "\n",
    "# ROC-AUC 점수 계산 및 시각화\n",
    "roc_auc = roc_auc_score(y_test, y_pred_proba, multi_class='ovr', average='macro')\n",
    "print(f\"\\n전체 ROC-AUC 점수: {roc_auc}\")\n",
    "\n",
    "# 각 클래스별 ROC 곡선 그리기\n",
    "plt.figure(figsize=(8, 6))\n",
    "classes = [1, 2, 3, 4]  # 실제 클래스 목록\n",
    "for i, cls in enumerate(classes):  # 각 클래스에 대해 반복\n",
    "    fpr, tpr, _ = roc_curve(y_test, y_pred_proba[:, i], pos_label=cls)\n",
    "    plt.plot(fpr, tpr, lw=2, label=f'ROC curve (Class {cls})')\n",
    "\n",
    "plt.plot([0, 1], [0, 1], color='gray', lw=1, linestyle='--')\n",
    "plt.xlabel('False Positive Rate')\n",
    "plt.ylabel('True Positive Rate')\n",
    "plt.title('ROC Curve')\n",
    "plt.legend(loc=\"lower right\")\n",
    "plt.show()\n"
   ]
  },
  {
   "cell_type": "markdown",
   "metadata": {},
   "source": [
    "확실히 대부분의 점수가 5점이었던 기존의 데이터 셋보다 모델의 정확도는 0.59 로 예측하기는 힘든 데이터 였던것으로 확인된다. 데이터셋의 크기가 너무 작아진 것도 이유가 될 수 있을 것으로 판단 된다. 하지만 데이터의 양이 부족 했을 뿐 이전 보다 해당 모델을 평가하기엔 좋은 데이터셋이 라고 판단한다.\n",
    "\n",
    "ROC-AUC 점수는 0.6796 으로 이전과 비슷한 점수가 나왔고 결국 해당 모델의 점수는 0.6796 정도의 점수로 볼 수 있을 것 같다."
   ]
  },
  {
   "cell_type": "code",
   "execution_count": null,
   "metadata": {},
   "outputs": [],
   "source": [
    "# 혼동 행렬 생성 및 시각화\n",
    "conf_matrix = confusion_matrix(y_test, y_pred)\n",
    "plt.figure(figsize=(8, 6))\n",
    "sns.heatmap(conf_matrix, annot=True, fmt='d', cmap='Blues', xticklabels=[1, 2, 3, 4], yticklabels=[1, 2, 3, 4])\n",
    "plt.xlabel('Predicted Label')\n",
    "plt.ylabel('True Label')\n",
    "plt.title('Confusion Matrix')\n",
    "plt.show()"
   ]
  }
 ],
 "metadata": {
  "kernelspec": {
   "display_name": "Python 3",
   "language": "python",
   "name": "python3"
  },
  "language_info": {
   "codemirror_mode": {
    "name": "ipython",
    "version": 3
   },
   "file_extension": ".py",
   "mimetype": "text/x-python",
   "name": "python",
   "nbconvert_exporter": "python",
   "pygments_lexer": "ipython3",
   "version": "3.11.5"
  }
 },
 "nbformat": 4,
 "nbformat_minor": 2
}
